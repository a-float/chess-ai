{
 "cells": [
  {
   "cell_type": "code",
   "execution_count": 4,
   "metadata": {},
   "outputs": [
    {
     "name": "stdout",
     "output_type": "stream",
     "text": [
      "0.0%\n",
      "10.0%\n",
      "20.0%\n",
      "30.0%\n",
      "40.0%\n",
      "50.0%\n",
      "60.0%\n",
      "70.0%\n",
      "80.0%\n",
      "90.0%\n",
      "Done in 0.44s\n"
     ]
    }
   ],
   "source": [
    "import os\n",
    "from helpers.utils import parse_dataset\n",
    "import pandas as pd\n",
    "\n",
    "DATA_PATH = os.path.join(\"data\", \"evals.csv\")\n",
    "GAMES_TO_LOAD = 32_000\n",
    "parse_dataset(GAMES_TO_LOAD, DATA_PATH)"
   ]
  },
  {
   "cell_type": "code",
   "execution_count": 5,
   "metadata": {},
   "outputs": [
    {
     "name": "stdout",
     "output_type": "stream",
     "text": [
      "Using cuda device\n"
     ]
    }
   ],
   "source": [
    "import torch\n",
    "import torch\n",
    "from torch import nn\n",
    "from torch.utils.data import DataLoader, Dataset, random_split\n",
    "from torchvision.transforms import Compose\n",
    "from helpers.fen import fen_to_bitboard\n",
    "from helpers.data import prepare_chess_frame\n",
    "\n",
    "device = (\n",
    "    \"cuda\"\n",
    "    if torch.cuda.is_available()\n",
    "    else \"mps\"\n",
    "    if torch.backends.mps.is_available()\n",
    "    else \"cpu\"\n",
    ")\n",
    "print(f\"Using {device} device\")\n",
    "\n",
    "\n",
    "def train(dataloader, model, loss_fn, optimizer):\n",
    "    size = len(dataloader.dataset)\n",
    "    model.train()\n",
    "    for batch, (X, y) in enumerate(dataloader):\n",
    "        X, y = X.to(device), y.to(device)\n",
    "        pred = model(X)\n",
    "        loss = loss_fn(pred, y)\n",
    "        loss.backward()\n",
    "        optimizer.step()\n",
    "        optimizer.zero_grad()\n",
    "        if batch % 100 == 0:\n",
    "            loss, current = loss.item(), (batch + 1) * len(X)\n",
    "            # print(f\"loss: {loss:>7f}  [{current:>5d}/{size:>5d}]\")\n",
    "    return loss\n",
    "\n",
    "\n",
    "class FenToBits(object):\n",
    "    def __init__(self, merge_colors: bool):\n",
    "        self.merge_colors = merge_colors\n",
    "\n",
    "    def __call__(self, sample):\n",
    "        return {\n",
    "            \"eval\": sample[\"eval\"],\n",
    "            \"board\": fen_to_bitboard(sample[\"fen\"], self.merge_colors),\n",
    "        }\n",
    "\n",
    "\n",
    "class ToTensor(object):\n",
    "    \"\"\"Convert ndarrays in sample to Tensors.\"\"\"\n",
    "\n",
    "    def __call__(self, sample):\n",
    "        board, eval = sample[\"board\"], sample[\"eval\"]\n",
    "        return {\n",
    "            \"board\": torch.from_numpy(board).float(),\n",
    "            \"eval\": torch.tensor([eval]).float(),\n",
    "        }\n",
    "\n",
    "\n",
    "class ToTuple(object):\n",
    "    def __call__(self, sample):\n",
    "        return sample[\"board\"], sample[\"eval\"]\n",
    "\n",
    "\n",
    "class NeuralNetwork(nn.Module):\n",
    "    def __init__(self, trial, input_shape):\n",
    "        super().__init__()\n",
    "\n",
    "        activation_f = trial.suggest_categorical(\"activation_func\", [\"sigmoid\", \"relu\", \"tanh\"])\n",
    "        if activation_f == \"sigmoid\":\n",
    "            activation_f = nn.Sigmoid\n",
    "        elif activation_f == \"relu\":\n",
    "            activation_f = nn.ReLU\n",
    "        elif activation_f == \"tanh\":\n",
    "            activation_f = nn.Tanh\n",
    "\n",
    "        conv_layers = trial.suggest_int(\"conv_layers\", 1, 3)\n",
    "        stack = []\n",
    "        in_size = input_shape[0]\n",
    "        kernel = 3\n",
    "        for i in range(conv_layers):\n",
    "            out_size = trial.suggest_int(f\"conv_out_{i+1}\", 2, 128)\n",
    "            l = nn.Conv2d(in_size, out_size, kernel_size=kernel)\n",
    "            in_size = out_size\n",
    "            stack.extend([l, activation_f()])\n",
    "        dense_layers = trial.suggest_int(\"dense_layers\", 1, 3)\n",
    "        stack.append(nn.Flatten())\n",
    "        in_size *= (8 - conv_layers * 2) ** 2\n",
    "        for i in range(dense_layers):\n",
    "            out_size = trial.suggest_int(f\"dense_out_{i+1}\", 4, 128)\n",
    "            l = nn.Linear(in_size, out_size)\n",
    "            in_size = out_size\n",
    "            stack.extend([l, activation_f()])\n",
    "        stack.append(nn.Linear(in_size, 1))\n",
    "        self.stack = nn.Sequential(*stack)\n",
    "\n",
    "    def forward(self, x):\n",
    "        logits = self.stack(x)\n",
    "        return logits\n",
    "\n",
    "\n",
    "class ChessDataset(Dataset):\n",
    "    def __init__(self, csv_file, transform=None):\n",
    "        df = pd.read_csv(csv_file)\n",
    "        self.df = prepare_chess_frame(df, normalize=True)\n",
    "        self.transform = transform\n",
    "\n",
    "    def __len__(self):\n",
    "        return len(self.df)\n",
    "\n",
    "    def __getitem__(self, idx):\n",
    "        if torch.is_tensor(idx):\n",
    "            idx = idx.tolist()\n",
    "\n",
    "        row = self.df.iloc[idx]\n",
    "        sample = {\"fen\": row[\"fen\"], \"eval\": row[\"eval\"]}\n",
    "\n",
    "        if self.transform:\n",
    "            sample = self.transform(sample)\n",
    "\n",
    "        return sample"
   ]
  },
  {
   "cell_type": "code",
   "execution_count": 6,
   "metadata": {},
   "outputs": [
    {
     "name": "stderr",
     "output_type": "stream",
     "text": [
      "[I 2024-01-06 23:13:51,277] Using an existing study with name 'chess-ai-2' instead of creating a new one.\n"
     ]
    },
    {
     "name": "stdout",
     "output_type": "stream",
     "text": [
      "Running trial 6\n"
     ]
    },
    {
     "name": "stderr",
     "output_type": "stream",
     "text": [
      "[I 2024-01-06 23:15:51,142] Trial 6 finished with value: 0.18468296766281128 and parameters: {'merge_colors': 'False', 'activation_func': 'relu', 'conv_layers': 1, 'conv_out_1': 117, 'dense_layers': 3, 'dense_out_1': 122, 'dense_out_2': 117, 'dense_out_3': 106, 'lr': 1.4290781637791235e-05, 'optimizer': 'RMSprop'}. Best is trial 3 with value: 0.14810833364725112.\n"
     ]
    },
    {
     "name": "stdout",
     "output_type": "stream",
     "text": [
      "Running trial 7\n"
     ]
    },
    {
     "name": "stderr",
     "output_type": "stream",
     "text": [
      "[I 2024-01-06 23:17:49,863] Trial 7 finished with value: 0.1638789391517639 and parameters: {'merge_colors': 'False', 'activation_func': 'relu', 'conv_layers': 1, 'conv_out_1': 40, 'dense_layers': 2, 'dense_out_1': 81, 'dense_out_2': 44, 'lr': 0.00018626736048670136, 'optimizer': 'RMSprop'}. Best is trial 3 with value: 0.14810833364725112.\n"
     ]
    },
    {
     "name": "stdout",
     "output_type": "stream",
     "text": [
      "Running trial 8\n"
     ]
    },
    {
     "name": "stderr",
     "output_type": "stream",
     "text": [
      "[I 2024-01-06 23:19:29,857] Trial 8 pruned. \n"
     ]
    },
    {
     "name": "stdout",
     "output_type": "stream",
     "text": [
      "Running trial 9\n"
     ]
    },
    {
     "name": "stderr",
     "output_type": "stream",
     "text": [
      "[I 2024-01-06 23:21:45,013] Trial 9 finished with value: 0.19171306729316712 and parameters: {'merge_colors': 'True', 'activation_func': 'tanh', 'conv_layers': 1, 'conv_out_1': 123, 'dense_layers': 3, 'dense_out_1': 38, 'dense_out_2': 84, 'dense_out_3': 127, 'lr': 3.6005773524790856e-05, 'optimizer': 'RMSprop'}. Best is trial 3 with value: 0.14810833364725112.\n"
     ]
    },
    {
     "name": "stdout",
     "output_type": "stream",
     "text": [
      "Running trial 10\n"
     ]
    },
    {
     "name": "stderr",
     "output_type": "stream",
     "text": [
      "[I 2024-01-06 23:21:53,922] Trial 10 pruned. \n"
     ]
    },
    {
     "name": "stdout",
     "output_type": "stream",
     "text": [
      "Running trial 11\n"
     ]
    },
    {
     "name": "stderr",
     "output_type": "stream",
     "text": [
      "[I 2024-01-06 23:23:55,924] Trial 11 finished with value: 0.1494897025823593 and parameters: {'merge_colors': 'False', 'activation_func': 'relu', 'conv_layers': 1, 'conv_out_1': 43, 'dense_layers': 2, 'dense_out_1': 70, 'dense_out_2': 88, 'lr': 0.0007579151323137438, 'optimizer': 'Adam'}. Best is trial 3 with value: 0.14810833364725112.\n"
     ]
    },
    {
     "name": "stdout",
     "output_type": "stream",
     "text": [
      "Running trial 12\n"
     ]
    },
    {
     "name": "stderr",
     "output_type": "stream",
     "text": [
      "[I 2024-01-06 23:25:57,396] Trial 12 finished with value: 0.16214103728532792 and parameters: {'merge_colors': 'False', 'activation_func': 'relu', 'conv_layers': 1, 'conv_out_1': 4, 'dense_layers': 2, 'dense_out_1': 61, 'dense_out_2': 93, 'lr': 0.0015798962689364037, 'optimizer': 'Adam'}. Best is trial 3 with value: 0.14810833364725112.\n"
     ]
    },
    {
     "name": "stdout",
     "output_type": "stream",
     "text": [
      "Running trial 13\n"
     ]
    },
    {
     "name": "stderr",
     "output_type": "stream",
     "text": [
      "[I 2024-01-06 23:27:59,981] Trial 13 finished with value: 0.14080359399318695 and parameters: {'merge_colors': 'False', 'activation_func': 'relu', 'conv_layers': 1, 'conv_out_1': 76, 'dense_layers': 1, 'dense_out_1': 46, 'lr': 0.0012722620713917813, 'optimizer': 'Adam'}. Best is trial 13 with value: 0.14080359399318695.\n"
     ]
    },
    {
     "name": "stdout",
     "output_type": "stream",
     "text": [
      "Running trial 14\n"
     ]
    },
    {
     "name": "stderr",
     "output_type": "stream",
     "text": [
      "[I 2024-01-06 23:30:04,409] Trial 14 finished with value: 0.161691355407238 and parameters: {'merge_colors': 'False', 'activation_func': 'relu', 'conv_layers': 2, 'conv_out_1': 82, 'conv_out_2': 12, 'dense_layers': 1, 'dense_out_1': 40, 'lr': 0.007647541762228024, 'optimizer': 'Adam'}. Best is trial 13 with value: 0.14080359399318695.\n"
     ]
    },
    {
     "name": "stdout",
     "output_type": "stream",
     "text": [
      "Running trial 15\n"
     ]
    },
    {
     "name": "stderr",
     "output_type": "stream",
     "text": [
      "[I 2024-01-06 23:32:03,016] Trial 15 finished with value: 0.14761754393577575 and parameters: {'merge_colors': 'False', 'activation_func': 'relu', 'conv_layers': 1, 'conv_out_1': 76, 'dense_layers': 1, 'dense_out_1': 23, 'lr': 0.001335863777640962, 'optimizer': 'Adam'}. Best is trial 13 with value: 0.14080359399318695.\n"
     ]
    },
    {
     "name": "stdout",
     "output_type": "stream",
     "text": [
      "Running trial 16\n"
     ]
    },
    {
     "name": "stderr",
     "output_type": "stream",
     "text": [
      "[I 2024-01-06 23:32:10,890] Trial 16 pruned. \n"
     ]
    },
    {
     "name": "stdout",
     "output_type": "stream",
     "text": [
      "Running trial 17\n"
     ]
    },
    {
     "name": "stderr",
     "output_type": "stream",
     "text": [
      "[I 2024-01-06 23:34:09,754] Trial 17 finished with value: 0.15305398911237716 and parameters: {'merge_colors': 'False', 'activation_func': 'relu', 'conv_layers': 1, 'conv_out_1': 90, 'dense_layers': 1, 'dense_out_1': 25, 'lr': 0.006374243747667274, 'optimizer': 'Adam'}. Best is trial 13 with value: 0.14080359399318695.\n"
     ]
    },
    {
     "name": "stdout",
     "output_type": "stream",
     "text": [
      "Running trial 18\n"
     ]
    },
    {
     "name": "stderr",
     "output_type": "stream",
     "text": [
      "[I 2024-01-06 23:34:18,736] Trial 18 pruned. \n"
     ]
    },
    {
     "name": "stdout",
     "output_type": "stream",
     "text": [
      "Running trial 19\n"
     ]
    },
    {
     "name": "stderr",
     "output_type": "stream",
     "text": [
      "[I 2024-01-06 23:36:19,923] Trial 19 finished with value: 0.1508908811211586 and parameters: {'merge_colors': 'False', 'activation_func': 'tanh', 'conv_layers': 1, 'conv_out_1': 61, 'dense_layers': 1, 'dense_out_1': 47, 'lr': 0.0030274603975878954, 'optimizer': 'Adam'}. Best is trial 13 with value: 0.14080359399318695.\n"
     ]
    },
    {
     "name": "stdout",
     "output_type": "stream",
     "text": [
      "Running trial 20\n"
     ]
    },
    {
     "name": "stderr",
     "output_type": "stream",
     "text": [
      "[I 2024-01-06 23:36:29,189] Trial 20 pruned. \n"
     ]
    },
    {
     "name": "stdout",
     "output_type": "stream",
     "text": [
      "Study statistics: \n",
      "  Number of finished trials:  21\n",
      "  Number of pruned trials:  6\n",
      "  Number of complete trials:  15\n",
      "Best trial:\n",
      "  Value:  0.14080359399318695\n",
      "  Params: \n",
      "    merge_colors: False\n",
      "    activation_func: relu\n",
      "    conv_layers: 1\n",
      "    conv_out_1: 76\n",
      "    dense_layers: 1\n",
      "    dense_out_1: 46\n",
      "    lr: 0.0012722620713917813\n",
      "    optimizer: Adam\n"
     ]
    }
   ],
   "source": [
    "import optuna\n",
    "from optuna.trial import TrialState\n",
    "\n",
    "def objective(trial):\n",
    "    BATCH_SIZE = 256\n",
    "    print(f\"Running trial {trial.number}\")\n",
    "\n",
    "    merge_colors = trial.suggest_categorical(\"merge_colors\", [\"True\", \"False\"])\n",
    "    chess_dataset = ChessDataset(\n",
    "        csv_file=DATA_PATH,\n",
    "        transform=Compose([FenToBits(merge_colors == \"True\"), ToTensor(), ToTuple()]),\n",
    "    )\n",
    "    train_set, test_set = random_split(chess_dataset, [0.8, 0.2])\n",
    "    train_dataloader = DataLoader(train_set, batch_size=BATCH_SIZE)\n",
    "    test_dataloader = DataLoader(test_set, batch_size=BATCH_SIZE)\n",
    "\n",
    "    dataset_shape = chess_dataset[0][0].shape\n",
    "    model = NeuralNetwork(trial=trial, input_shape=dataset_shape).to(device)\n",
    "    loss_fn = nn.MSELoss()\n",
    "\n",
    "    lr = trial.suggest_float(\"lr\", 1e-5, 1e-1, log=True)\n",
    "    optimizer_name = trial.suggest_categorical(\"optimizer\", [\"Adam\", \"RMSprop\", \"SGD\"])\n",
    "    optimizer = getattr(torch.optim, optimizer_name)(model.parameters(), lr=lr)\n",
    "\n",
    "    history = {\"train_loss\": [], \"test_loss\": []}\n",
    "    epochs = 16\n",
    "    for epoch in range(epochs):\n",
    "        # print(f\"Epoch {epoch+1}\\n---------------------\")\n",
    "        train_loss = train(train_dataloader, model, loss_fn, optimizer)\n",
    "\n",
    "        # test\n",
    "        num_batches = len(test_dataloader)\n",
    "        model.eval()\n",
    "        test_loss = 0.0\n",
    "        with torch.no_grad():\n",
    "            for X, y in test_dataloader:\n",
    "                X, y = X.to(device), y.to(device)\n",
    "                pred = model(X)\n",
    "                test_loss += loss_fn(pred, y).item()\n",
    "\n",
    "        test_loss /= num_batches\n",
    "        trial.report(test_loss, epoch)\n",
    "\n",
    "        if trial.should_prune():\n",
    "            raise optuna.exceptions.TrialPruned()\n",
    "\n",
    "        history[\"train_loss\"].append(train_loss)\n",
    "        history[\"test_loss\"].append(test_loss)\n",
    "    return history['test_loss'][-1]\n",
    "\n",
    "\n",
    "if __name__ == \"__main__\":\n",
    "    study = optuna.create_study(\n",
    "        direction=\"minimize\",\n",
    "        storage=\"sqlite:///data/db2.sqlite3\",\n",
    "        study_name=\"chess-ai-2\",\n",
    "        load_if_exists=True,\n",
    "    )\n",
    "    study.optimize(objective, n_trials=15)\n",
    "\n",
    "    pruned_trials = study.get_trials(deepcopy=False, states=[TrialState.PRUNED])\n",
    "    complete_trials = study.get_trials(deepcopy=False, states=[TrialState.COMPLETE])\n",
    "\n",
    "    print(\"Study statistics: \")\n",
    "    print(\"  Number of finished trials: \", len(study.trials))\n",
    "    print(\"  Number of pruned trials: \", len(pruned_trials))\n",
    "    print(\"  Number of complete trials: \", len(complete_trials))\n",
    "\n",
    "    print(\"Best trial:\")\n",
    "    trial = study.best_trial\n",
    "\n",
    "    print(\"  Value: \", trial.value)\n",
    "\n",
    "    print(\"  Params: \")\n",
    "    for key, value in trial.params.items():\n",
    "        print(\"    {}: {}\".format(key, value))"
   ]
  }
 ],
 "metadata": {
  "kernelspec": {
   "display_name": "venv",
   "language": "python",
   "name": "python3"
  },
  "language_info": {
   "codemirror_mode": {
    "name": "ipython",
    "version": 3
   },
   "file_extension": ".py",
   "mimetype": "text/x-python",
   "name": "python",
   "nbconvert_exporter": "python",
   "pygments_lexer": "ipython3",
   "version": "3.10.10"
  }
 },
 "nbformat": 4,
 "nbformat_minor": 2
}
